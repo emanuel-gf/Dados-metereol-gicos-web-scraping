{
 "cells": [
  {
   "cell_type": "markdown",
   "metadata": {},
   "source": [
    "# Automação de Sistemas e Processos com Python\n",
    "\n",
    "### Desafio:\n",
    "\n",
    "Todos os dias, o nosso sistema atualiza as vendas do dia anterior.\n",
    "O seu trabalho diário, como analista, é enviar um e-mail para a diretoria, assim que começar a trabalhar, com o faturamento e a quantidade de produtos vendidos no dia anterior\n",
    "\n",
    "E-mail da diretoria: seugmail+diretoria@gmail.com<br>\n",
    "Local onde o sistema disponibiliza as vendas do dia anterior: https://drive.google.com/drive/folders/149xknr9JvrlEnhNWO49zPcw0PW5icxga?usp=sharing\n",
    "\n",
    "Para resolver isso, vamos usar o pyautogui, uma biblioteca de automação de comandos do mouse e do teclado"
   ]
  },
  {
   "cell_type": "code",
   "execution_count": 1,
   "metadata": {},
   "outputs": [],
   "source": [
    "import pyperclip\n",
    "import time\n",
    "import pyautogui as pgui"
   ]
  },
  {
   "cell_type": "markdown",
   "metadata": {},
   "source": [
    "1 - entrar no sistema da empresa (entrar no link)\n",
    "\n",
    "2 - navegar até a base de dados\n",
    "\n",
    "3 - baixar a planilha de venda\n",
    "\n",
    "4 - calcular o faturamento e a quantidade de produtos vendidos da base\n",
    "\n",
    "5 - enviar um email para a diretoria com o faturamento e a quantidade"
   ]
  },
  {
   "cell_type": "code",
   "execution_count": 21,
   "metadata": {},
   "outputs": [],
   "source": [
    "#abrir uma nova aba\n",
    "\n",
    "#pedir para o pyautogui executar um comando e esperar 1 segundo\n",
    "pgui.PAUSE = 1\n",
    "#atalho do teclado para abrir nova aba\n",
    "pgui.hotkey(\"ctrl\",\"t\")\n",
    "#ao invés de escrever o link( sujeito a erro) é mais fácil copiar usando pyperclip e colar usando pyautogui\n",
    "link = 'https://drive.google.com/drive/folders/149xknr9JvrlEnhNWO49zPcw0PW5icxga?usp=sharing'\n",
    "pyperclip.copy(link)\n",
    "# colando o link na barra de pesquisa\n",
    "pgui.hotkey('ctrl','v')\n",
    "#entrando no site\n",
    "pgui.press('enter')\n",
    "#entrando na pasta exportar (necessário dar um duplo clique para entrar na pasta)\n",
    "time.sleep(3)\n",
    "pgui.click(x=395,y=265,clicks=2,button='right')\n",
    "\n",
    "#clicar no arquivo\n",
    "time.sleep(2)\n",
    "pgui.click(x=397,y=330,button='right')\n",
    "#clicar nos 3pontos para baixar o arquivo\n",
    "time.sleep(2)\n",
    "pgui.click(x=1159,y=163,button='right')\n",
    "#clicar no fazer download\n",
    "time.sleep(6)\n",
    "pgui.click(x=975,y=520,button='right')\n",
    "time.sleep(15) #tempo para fazer o download"
   ]
  },
  {
   "cell_type": "code",
   "execution_count": 40,
   "metadata": {
    "scrolled": true
   },
   "outputs": [
    {
     "data": {
      "text/plain": [
       "Point(x=92, y=176)"
      ]
     },
     "execution_count": 40,
     "metadata": {},
     "output_type": "execute_result"
    }
   ],
   "source": [
    "#descobrir qual a posição do mouse para ele clicar, basta rodar o programa e por o mouse em cima de onde se deseja clicar\n",
    "time.sleep(5)\n",
    "pgui.position()"
   ]
  },
  {
   "cell_type": "markdown",
   "metadata": {},
   "source": [
    "### Vamos agora ler o arquivo baixado para pegar os indicadores\n",
    "\n",
    "- Faturamento\n",
    "- Quantidade de Produtos"
   ]
  },
  {
   "cell_type": "code",
   "execution_count": 22,
   "metadata": {},
   "outputs": [
    {
     "data": {
      "text/html": [
       "<div>\n",
       "<style scoped>\n",
       "    .dataframe tbody tr th:only-of-type {\n",
       "        vertical-align: middle;\n",
       "    }\n",
       "\n",
       "    .dataframe tbody tr th {\n",
       "        vertical-align: top;\n",
       "    }\n",
       "\n",
       "    .dataframe thead th {\n",
       "        text-align: right;\n",
       "    }\n",
       "</style>\n",
       "<table border=\"1\" class=\"dataframe\">\n",
       "  <thead>\n",
       "    <tr style=\"text-align: right;\">\n",
       "      <th></th>\n",
       "      <th>Código Venda</th>\n",
       "      <th>Data</th>\n",
       "      <th>ID Loja</th>\n",
       "      <th>Produto</th>\n",
       "      <th>Quantidade</th>\n",
       "      <th>Valor Unitário</th>\n",
       "      <th>Valor Final</th>\n",
       "    </tr>\n",
       "  </thead>\n",
       "  <tbody>\n",
       "    <tr>\n",
       "      <th>0</th>\n",
       "      <td>65014</td>\n",
       "      <td>2019-12-01</td>\n",
       "      <td>Shopping Morumbi</td>\n",
       "      <td>Sunga Listrado</td>\n",
       "      <td>5</td>\n",
       "      <td>114</td>\n",
       "      <td>570</td>\n",
       "    </tr>\n",
       "    <tr>\n",
       "      <th>1</th>\n",
       "      <td>65014</td>\n",
       "      <td>2019-12-01</td>\n",
       "      <td>Shopping Morumbi</td>\n",
       "      <td>Casaco Listrado</td>\n",
       "      <td>1</td>\n",
       "      <td>269</td>\n",
       "      <td>269</td>\n",
       "    </tr>\n",
       "    <tr>\n",
       "      <th>2</th>\n",
       "      <td>65016</td>\n",
       "      <td>2019-12-01</td>\n",
       "      <td>Iguatemi Campinas</td>\n",
       "      <td>Sapato Listrado</td>\n",
       "      <td>2</td>\n",
       "      <td>363</td>\n",
       "      <td>726</td>\n",
       "    </tr>\n",
       "    <tr>\n",
       "      <th>3</th>\n",
       "      <td>65016</td>\n",
       "      <td>2019-12-01</td>\n",
       "      <td>Iguatemi Campinas</td>\n",
       "      <td>Casaco</td>\n",
       "      <td>1</td>\n",
       "      <td>250</td>\n",
       "      <td>250</td>\n",
       "    </tr>\n",
       "    <tr>\n",
       "      <th>4</th>\n",
       "      <td>65017</td>\n",
       "      <td>2019-12-01</td>\n",
       "      <td>Shopping SP Market</td>\n",
       "      <td>Gorro Liso</td>\n",
       "      <td>3</td>\n",
       "      <td>92</td>\n",
       "      <td>276</td>\n",
       "    </tr>\n",
       "  </tbody>\n",
       "</table>\n",
       "</div>"
      ],
      "text/plain": [
       "   Código Venda       Data             ID Loja          Produto  Quantidade  \\\n",
       "0         65014 2019-12-01    Shopping Morumbi   Sunga Listrado           5   \n",
       "1         65014 2019-12-01    Shopping Morumbi  Casaco Listrado           1   \n",
       "2         65016 2019-12-01   Iguatemi Campinas  Sapato Listrado           2   \n",
       "3         65016 2019-12-01   Iguatemi Campinas           Casaco           1   \n",
       "4         65017 2019-12-01  Shopping SP Market       Gorro Liso           3   \n",
       "\n",
       "   Valor Unitário  Valor Final  \n",
       "0             114          570  \n",
       "1             269          269  \n",
       "2             363          726  \n",
       "3             250          250  \n",
       "4              92          276  "
      ]
     },
     "execution_count": 22,
     "metadata": {},
     "output_type": "execute_result"
    }
   ],
   "source": [
    "import pandas as pd\n",
    "#biblioteca os para fazer a mudança dinâmica da entrada dos arquivos\n",
    "tabela=pd.read_excel(r'C:\\Users\\Emanuel\\Downloads\\Vendas - Dez.xlsx') #o r diz para o python que nao há caracter especial\n",
    "tabela.head()"
   ]
  },
  {
   "cell_type": "code",
   "execution_count": 34,
   "metadata": {},
   "outputs": [
    {
     "name": "stdout",
     "output_type": "stream",
     "text": [
      "As vendas do dia 2019-12-01  resultaram em um faturamento de: 2917311 reais com 15227 itens vendido\n"
     ]
    }
   ],
   "source": [
    "faturamento = tabela['Valor Final'].sum()\n",
    "Quantidade = tabela['Quantidade'].sum()\n",
    "dia = str(tabela['Data'][0])\n",
    "print(f'As vendas do dia {dia.split()[0]}  resultaram em um faturamento de: {faturamento} reais com {Quantidade} itens vendido')\n",
    "\n"
   ]
  },
  {
   "cell_type": "markdown",
   "metadata": {},
   "source": [
    "### Vamos agora enviar um e-mail pelo gmail"
   ]
  },
  {
   "cell_type": "code",
   "execution_count": 39,
   "metadata": {},
   "outputs": [
    {
     "ename": "NameError",
     "evalue": "name 'x' is not defined",
     "output_type": "error",
     "traceback": [
      "\u001b[1;31m---------------------------------------------------------------------------\u001b[0m",
      "\u001b[1;31mNameError\u001b[0m                                 Traceback (most recent call last)",
      "\u001b[1;32m<ipython-input-39-4466841f5afd>\u001b[0m in \u001b[0;36m<module>\u001b[1;34m\u001b[0m\n\u001b[0;32m      9\u001b[0m \u001b[0mtime\u001b[0m\u001b[1;33m.\u001b[0m\u001b[0msleep\u001b[0m\u001b[1;33m(\u001b[0m\u001b[1;36m10\u001b[0m\u001b[1;33m)\u001b[0m\u001b[1;33m\u001b[0m\u001b[1;33m\u001b[0m\u001b[0m\n\u001b[0;32m     10\u001b[0m \u001b[1;31m#clicando em escrever\u001b[0m\u001b[1;33m\u001b[0m\u001b[1;33m\u001b[0m\u001b[1;33m\u001b[0m\u001b[0m\n\u001b[1;32m---> 11\u001b[1;33m \u001b[0mpgui\u001b[0m\u001b[1;33m.\u001b[0m\u001b[0mclick\u001b[0m\u001b[1;33m(\u001b[0m\u001b[0mx\u001b[0m\u001b[1;33m,\u001b[0m\u001b[0my\u001b[0m\u001b[1;33m)\u001b[0m\u001b[1;33m\u001b[0m\u001b[1;33m\u001b[0m\u001b[0m\n\u001b[0m",
      "\u001b[1;31mNameError\u001b[0m: name 'x' is not defined"
     ]
    }
   ],
   "source": [
    "#abrir uma nova aba\n",
    "pgui.PAUSE = 1\n",
    "pgui.hotkey(\"ctrl\",\"t\")\n",
    "#entrar no gmail\n",
    "llink = 'https://mail.google.com/mail/u/0/#inbox'\n",
    "pyperclip.copy(llink)\n",
    "pgui.hotkey('ctrl','v')\n",
    "pgui.press('enter')\n",
    "time.sleep(10)\n",
    "#clicando em escrever\n",
    "\n",
    "pgui.click(x=92,y=176)\n",
    "\n",
    "#digitar para quem enviar\n",
    "email = \"emanuelgoulartf+directorio@gmail.com\"\n",
    "pgui.write(email)\n",
    "pgui.press('tab') #seleciona o email\n",
    "time.sleep(2)\n",
    "pgui.press('tab') #pula para preencher o campo de titulo\n",
    "\n",
    "# pgui.write('Relatorio de vendas') #preenchendo o titulo\n",
    "#quando tem caractere especial no write do pygui é necessário copiar e colar o assunto\n",
    "#ajeitando para funcionar com caractere especial(como acento, ç )\n",
    "assunto = 'Relatório de vendas'\n",
    "pyperclip.copy(assunto)\n",
    "pgui.hotkey('ctrl','v')\n",
    "\n",
    "#escrevendo o email\n",
    "pgui.press('tab') #passar para o campo de escrever o email\n",
    "texto_email = \"\"\"\"\n",
    "Prezados Bom dia\n",
    "O faturamento de ontem foi de:R$ \n",
    "A quantidade de produtos vendidas foi de: \n",
    "\"\"\"\n",
    "pgui.write(texto_email)\n",
    "\n",
    "#enviar o email\n",
    "pgui.hotkey('ctrl','enter')"
   ]
  },
  {
   "cell_type": "markdown",
   "metadata": {},
   "source": [
    "#### Use esse código para descobrir qual a posição de um item que queira clicar\n",
    "\n",
    "- Lembre-se: a posição na sua tela é diferente da posição na minha tela"
   ]
  },
  {
   "cell_type": "code",
   "execution_count": null,
   "metadata": {},
   "outputs": [],
   "source": []
  }
 ],
 "metadata": {
  "kernelspec": {
   "display_name": "Python 3",
   "language": "python",
   "name": "python3"
  },
  "language_info": {
   "codemirror_mode": {
    "name": "ipython",
    "version": 3
   },
   "file_extension": ".py",
   "mimetype": "text/x-python",
   "name": "python",
   "nbconvert_exporter": "python",
   "pygments_lexer": "ipython3",
   "version": "3.8.8"
  }
 },
 "nbformat": 4,
 "nbformat_minor": 4
}
